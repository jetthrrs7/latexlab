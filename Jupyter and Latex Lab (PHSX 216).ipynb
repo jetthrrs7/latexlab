{
 "cells": [
  {
   "cell_type": "code",
   "execution_count": 9,
   "metadata": {},
   "outputs": [
    {
     "name": "stdout",
     "output_type": "stream",
     "text": [
      "dQ = 2.06\n",
      "dQ = 25.0\n",
      "dQ = 2.0615528128088303\n",
      "dQ = 0.0916515138991168\n"
     ]
    }
   ],
   "source": [
    "#Python functions\n",
    "#Error Proprogation Rule 1\n",
    "\n",
    "import numpy as np \n",
    "def rule1(c,dA):\n",
    "    dQ = abs(c) * dA\n",
    "    return dQ\n",
    "c = 2\n",
    "dA = 1.03\n",
    "\n",
    "dQ = rule1(c,dA)\n",
    "print('dQ =', dQ)\n",
    "\n",
    "#Error Proprogation Rule 2\n",
    "\n",
    "def rule2(c,m,A,dA):\n",
    "    dQ = abs(c*m*A**(m-1))*dA\n",
    "    return dQ\n",
    "c = 2\n",
    "m = 4\n",
    "A = 2.5\n",
    "dA = 0.2\n",
    "\n",
    "dQ = rule2(c,m,A,dA)\n",
    "print('dQ =', dQ)    \n",
    "\n",
    "#Error Proprogation Rule 3\n",
    "\n",
    "def rule3(dA,dB):\n",
    "    dQ = np.sqrt((dA**2)+(dB**2))\n",
    "    return dQ\n",
    "dA = 0.5\n",
    "dB = 2\n",
    "\n",
    "dQ = rule3(dA,dB)\n",
    "print('dQ =', dQ)\n",
    "\n",
    "#Error Proprogation Rule 4 \n",
    "\n",
    "def rule4(m,n,A,B,dA,dB):\n",
    "    dQ = np.sqrt((((m*dA)/(A))**2)+((n*dB)/(B)**2))\n",
    "    return dQ\n",
    "m = 2\n",
    "n = 1\n",
    "A = 10\n",
    "B =5\n",
    "dA = 0.1 \n",
    "dB = 0.2\n",
    "\n",
    "dQ = rule4(m,n,A,B,dA,dB)\n",
    "print('dQ =',dQ)"
   ]
  },
  {
   "cell_type": "code",
   "execution_count": null,
   "metadata": {},
   "outputs": [],
   "source": []
  }
 ],
 "metadata": {
  "kernelspec": {
   "display_name": "Python 3",
   "language": "python",
   "name": "python3"
  },
  "language_info": {
   "codemirror_mode": {
    "name": "ipython",
    "version": 3
   },
   "file_extension": ".py",
   "mimetype": "text/x-python",
   "name": "python",
   "nbconvert_exporter": "python",
   "pygments_lexer": "ipython3",
   "version": "3.8.3"
  }
 },
 "nbformat": 4,
 "nbformat_minor": 4
}
